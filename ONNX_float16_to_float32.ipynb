{
  "nbformat": 4,
  "nbformat_minor": 0,
  "metadata": {
    "colab": {
      "name": "ONNX float16 to float32.ipynb",
      "provenance": [],
      "collapsed_sections": []
    },
    "kernelspec": {
      "name": "python3",
      "display_name": "Python 3"
    },
    "language_info": {
      "name": "python"
    }
  },
  "cells": [
    {
      "cell_type": "code",
      "metadata": {
        "id": "zDyM0tPjW0KD"
      },
      "source": [
        "!git clone https://github.com/josephrocca/onnx-typecast # based on: https://github.com/aadhithya/onnx-typecast\n",
        "%cd onnx-typecast"
      ],
      "execution_count": null,
      "outputs": []
    },
    {
      "cell_type": "code",
      "metadata": {
        "id": "v-sR4H6eXAHM"
      },
      "source": [
        "!pip install -r requirements.txt"
      ],
      "execution_count": null,
      "outputs": []
    },
    {
      "cell_type": "code",
      "metadata": {
        "id": "7pdZu8W7XITw"
      },
      "source": [
        "!python3 convert-float16-to-float32.py ./path/to/input.onnx ./path/to/output.onnx"
      ],
      "execution_count": null,
      "outputs": []
    }
  ]
}